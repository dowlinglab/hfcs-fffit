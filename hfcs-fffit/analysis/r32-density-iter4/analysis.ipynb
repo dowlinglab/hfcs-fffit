{
 "cells": [
  {
   "cell_type": "markdown",
   "metadata": {},
   "source": [
    "# Fitting a gaussian process model to predict liquid densities\n",
    "\n",
    "In this notebook we fit Gaussian process models to predict the liquid density resulting from a set of {$\\sigma$, $\\epsilon$} parameters for R-32.\n",
    "\n",
    "Points with $\\rho_\\text{model}$ < 500 kg/m^3 are not used for model fitting. The models perform much worse if that data is included."
   ]
  },
  {
   "cell_type": "markdown",
   "metadata": {},
   "source": [
    "# I. Preliminaries\n",
    "\n",
    "### Imports and path to project\n",
    "A variety helper functions that are used repeatedly throughout the rest of the notebook."
   ]
  },
  {
   "cell_type": "code",
   "execution_count": null,
   "metadata": {},
   "outputs": [],
   "source": [
    "import sys\n",
    "import gpflow\n",
    "import numpy as np\n",
    "import pandas as pd\n",
    "import matplotlib.pyplot as plt\n",
    "import seaborn\n",
    "\n",
    "from sklearn import svm\n",
    "\n",
    "from sklearn import metrics\n",
    "from sklearn.metrics import confusion_matrix\n",
    "from sklearn.metrics import plot_confusion_matrix\n",
    "from sklearn.metrics import silhouette_score\n",
    "\n",
    "\n",
    "from fffit.utils import (\n",
    "    shuffle_and_split,\n",
    "    values_real_to_scaled,\n",
    "    values_scaled_to_real,\n",
    "    variances_scaled_to_real,\n",
    ")\n",
    "\n",
    "from fffit.plot import(\n",
    "    plot_model_performance,\n",
    "    plot_slices_temperature,\n",
    "    plot_slices_params,\n",
    "    plot_model_vs_test,\n",
    ")\n",
    "\n",
    "from fffit.models import run_gpflow_scipy\n",
    "\n",
    "\n",
    "sys.path.append('../')\n",
    "\n",
    "from utils.r32 import R32Constants\n",
    "from utils.id_new_samples import prepare_df_density\n",
    "\n",
    "R32 = R32Constants()\n",
    "\n",
    "liquid_density_threshold = 500 # kg/m^3\n",
    "\n",
    "iternum=4\n",
    "cl_shuffle_seed = 58477574\n",
    "gp_shuffle_seed = 29059757\n",
    "\n",
    "csv_path = \"/scratch365/rdefever/hfcs-fffit/hfcs-fffit/analysis/csv/\"\n",
    "in_csv_names = [\"r32-density-iter\" + str(i) + \"-results.csv\" for i in range(1, iternum+1)]"
   ]
  },
  {
   "cell_type": "markdown",
   "metadata": {},
   "source": [
    "# II. Prepare data"
   ]
  },
  {
   "cell_type": "code",
   "execution_count": null,
   "metadata": {},
   "outputs": [],
   "source": [
    "df_csvs = [pd.read_csv(csv_path + in_csv_name, index_col=0) for in_csv_name in in_csv_names]\n",
    "df_csv = pd.concat(df_csvs)\n",
    "df_all, df_liquid, df_vapor = prepare_df_density(\n",
    "    df_csv, R32, liquid_density_threshold\n",
    ")"
   ]
  },
  {
   "cell_type": "code",
   "execution_count": null,
   "metadata": {},
   "outputs": [],
   "source": [
    "print(f\"{len(df_liquid)} samples remained liquid.\")\n",
    "print(f\"{len(df_vapor)} samples went to vapor.\")"
   ]
  },
  {
   "cell_type": "code",
   "execution_count": null,
   "metadata": {},
   "outputs": [],
   "source": [
    "plt.scatter(\n",
    "    values_scaled_to_real(df_all[\"expt_density\"], R32.liq_density_bounds),\n",
    "    values_scaled_to_real(df_all[\"md_density\"], R32.liq_density_bounds),\n",
    ")"
   ]
  },
  {
   "cell_type": "markdown",
   "metadata": {},
   "source": [
    "### Evaluate samples from each iteration\n",
    "\n",
    "For each iteration:\n",
    "1. Calculate the MSE between MD and experimental density over all five temperatures for each sample\n",
    "2. For iterations 2-4; independently sort the first 100 (predicted liquid) and second 100 (predicted vapor) samples by MSE\n",
    "3. Plot sorted MSE vs. sorted index for both cases"
   ]
  },
  {
   "cell_type": "code",
   "execution_count": null,
   "metadata": {},
   "outputs": [],
   "source": [
    "for iter, df in enumerate(df_csvs):\n",
    "    df[\"expt_density\"] = df[\"temperature\"].apply(lambda x: R32.expt_liq_density[int(x)])\n",
    "    df[\"sq_err\"] = (df[\"density\"] - df[\"expt_density\"])**2\n",
    "    df_mse = df.groupby(list(R32.param_names))[\"sq_err\"].mean().reset_index(name=\"mse\")\n",
    "    prev_plt = plt.plot(\n",
    "        range(len(df_mse)),\n",
    "        df_mse[\"mse\"].sort_values(),\n",
    "        label=f\"Round {iter+1}\"\n",
    "    )\n",
    "plt.xlabel(\"Sorted Index\")\n",
    "plt.ylabel(\"MSE (kg^2/m^6)\")\n",
    "plt.legend()\n",
    "pass"
   ]
  },
  {
   "cell_type": "code",
   "execution_count": null,
   "metadata": {},
   "outputs": [],
   "source": [
    "for iter, df in enumerate(df_csvs):\n",
    "    df[\"expt_density\"] = df[\"temperature\"].apply(lambda x: R32.expt_liq_density[int(x)])\n",
    "    df[\"sq_err\"] = (df[\"density\"] - df[\"expt_density\"])**2\n",
    "    df_mse = df.groupby(list(R32.param_names))[\"sq_err\"].mean().reset_index(name=\"mse\")\n",
    "    prev_plt = plt.plot(\n",
    "        range(len(df_mse)),\n",
    "        df_mse[\"mse\"].sort_values(),\n",
    "        label=f\"Round {iter+1}\"\n",
    "    )\n",
    "plt.xlabel(\"Sorted Index\")\n",
    "plt.ylabel(\"MSE (kg^2/m^6)\")\n",
    "plt.ylim(-200,1000)\n",
    "plt.legend()\n",
    "pass"
   ]
  },
  {
   "cell_type": "code",
   "execution_count": null,
   "metadata": {},
   "outputs": [],
   "source": [
    "param_csv_names = [\"r32-density-iter\" + str(i) + \"-params.csv\" for i in range(1, iternum+1)]\n",
    "result_csv_names = [\"r32-density-iter\" + str(i) + \"-results.csv\" for i in range(1, iternum+1)]\n",
    "df_params = [pd.read_csv(csv_path + param_csv_name, index_col=0) for param_csv_name in param_csv_names]\n",
    "df_results = [pd.read_csv(csv_path + result_csv_name, index_col=0) for result_csv_name in result_csv_names]\n",
    "df_mses = []\n",
    "\n",
    "\n",
    "for iter_ in range(1,iternum+1):\n",
    "    df_param = df_params[iter_ - 1]\n",
    "    df_result = df_results[iter_ - 1]\n",
    "\n",
    "    df_result[\"expt_density\"] = df_result[\"temperature\"].apply(lambda x: R32.expt_liq_density[int(x)])\n",
    "    df_result[\"sq_err\"] = (df_result[\"density\"] - df_result[\"expt_density\"])**2\n",
    "    df_mse = df_result.groupby(list(R32.param_names))[\"sq_err\"].mean().reset_index(name=\"mse\")\n",
    "    \n",
    "    scaled_param_values = values_real_to_scaled(df_mse[list(R32.param_names)], R32.param_bounds)\n",
    "    \n",
    "    param_idxs = []\n",
    "    for params1 in scaled_param_values:\n",
    "        for idx, params2 in enumerate(df_param[list(R32.param_names)].values):\n",
    "            if np.allclose(params1, params2):\n",
    "                param_idxs.append(idx)\n",
    "                break\n",
    "    df_mse[\"param_idx\"] = param_idxs\n",
    "    df_mses.append(df_mse)"
   ]
  },
  {
   "cell_type": "code",
   "execution_count": null,
   "metadata": {},
   "outputs": [],
   "source": [
    "for i, df_mse in enumerate(df_mses):\n",
    "    plt.plot(\n",
    "        df_mse.sort_values(\"param_idx\")[\"param_idx\"],\n",
    "        df_mse.sort_values(\"param_idx\")[\"mse\"],\n",
    "        label=f\"Round {i+1}\"\n",
    "    )\n",
    "    plt.xlabel(\"Parameter set index\")\n",
    "    plt.ylabel(\"MSE (kg^2/m^6)\")\n",
    "    plt.ylim(0,1100000)\n",
    "    plt.legend()\n",
    "    plt.show()\n",
    "pass"
   ]
  },
  {
   "cell_type": "code",
   "execution_count": null,
   "metadata": {},
   "outputs": [],
   "source": [
    "for i, df_mse in enumerate(df_mses):\n",
    "    prev_plt = plt.plot(\n",
    "        range(100),\n",
    "        df_mse.sort_values(\"param_idx\")[:100].sort_values(\"mse\")[\"mse\"],\n",
    "        label=f\"Round {i+1}\"\n",
    "    )\n",
    "    plt.plot(\n",
    "        range(100),\n",
    "        df_mse.sort_values(\"param_idx\")[100:].sort_values(\"mse\")[\"mse\"],\n",
    "        '--',\n",
    "        color=prev_plt[0]._color,\n",
    "    )\n",
    "    \n",
    "plt.xlabel(\"Sorted Index\")\n",
    "plt.ylabel(\"MSE (kg^2/m^6)\")\n",
    "plt.legend()\n",
    "pass"
   ]
  },
  {
   "cell_type": "code",
   "execution_count": null,
   "metadata": {},
   "outputs": [],
   "source": [
    "for i, df_mse in enumerate(df_mses):\n",
    "    prev_plt = plt.plot(\n",
    "        range(100),\n",
    "        df_mse.sort_values(\"param_idx\")[:100].sort_values(\"mse\")[\"mse\"],\n",
    "        label=f\"Round {i+1}\"\n",
    "    )\n",
    "    plt.plot(\n",
    "        range(100),\n",
    "        df_mse.sort_values(\"param_idx\")[100:].sort_values(\"mse\")[\"mse\"],\n",
    "        '--',\n",
    "        color=prev_plt[0]._color,\n",
    "    )\n",
    "    \n",
    "plt.xlabel(\"Sorted Index\")\n",
    "plt.ylabel(\"MSE (kg^2/m^6)\")\n",
    "plt.ylim(-200,1000)\n",
    "plt.legend()\n",
    "pass"
   ]
  },
  {
   "cell_type": "markdown",
   "metadata": {},
   "source": [
    "### Split into training and test sets (80/20)\n",
    "The dataframe is shuffled before splitting into train and test sets. We discard the vapor points for training the GP models. We use the `shuffle_seed` option to make the shuffling deterministic."
   ]
  },
  {
   "cell_type": "code",
   "execution_count": null,
   "metadata": {},
   "outputs": [],
   "source": [
    "model_param_names = list(R32.param_names) + [\"temperature\"]\n",
    "property_name = \"md_density\"\n",
    "x_train, y_train, x_test, y_test = shuffle_and_split(df_liquid, model_param_names, property_name, shuffle_seed=gp_shuffle_seed)"
   ]
  },
  {
   "cell_type": "markdown",
   "metadata": {},
   "source": [
    "# III. Kernel comparison\n",
    "\n",
    "### Create a gaussian process model in GPFlow\n",
    "Scipy optimizer is used in all cases. First we compare single vs. mulitple variances for the RBF, Matern12, Matern32, and Matern52 kernels. We compare using a single lengthscale vs. multiple lengthscales for each. In all cases multiple lengthscales generally performs better. We then compare all four kernels with multiple lengthscales.\n",
    "\n",
    "### Observations\n",
    "* RBF kernel generally performs best (metric: mean square error on test set)\n",
    "* Full ranking: RBF > Matern52 > Matern32 > Matern12\n",
    "* Multiple lengthscales often performs slightly better"
   ]
  },
  {
   "cell_type": "code",
   "execution_count": null,
   "metadata": {
    "scrolled": true
   },
   "outputs": [],
   "source": [
    "all_models = {\n",
    "    \"RBF\" : run_gpflow_scipy(x_train, y_train, gpflow.kernels.RBF(lengthscales=1.0)),\n",
    "    \"RBF multiple\" : run_gpflow_scipy(x_train, y_train, gpflow.kernels.RBF(lengthscales=np.ones(R32.n_params+1))),\n",
    "    \"Matern12\" : run_gpflow_scipy(x_train, y_train, gpflow.kernels.Matern12(lengthscales=1.0)),\n",
    "    \"Matern12 multiple\" : run_gpflow_scipy(x_train, y_train, gpflow.kernels.Matern12(lengthscales=np.ones(R32.n_params+1))),\n",
    "    \"Matern32\" : run_gpflow_scipy(x_train, y_train, gpflow.kernels.Matern32(lengthscales=1.0)),\n",
    "    \"Matern32 multiple\" : run_gpflow_scipy(x_train, y_train, gpflow.kernels.Matern32(lengthscales=np.ones(R32.n_params+1))),\n",
    "    \"Matern52\" : run_gpflow_scipy(x_train, y_train, gpflow.kernels.Matern52(lengthscales=1.0)),\n",
    "    \"Matern52 multiple\" : run_gpflow_scipy(x_train, y_train, gpflow.kernels.Matern52(lengthscales=np.ones(R32.n_params+1)))\n",
    "}"
   ]
  },
  {
   "cell_type": "markdown",
   "metadata": {},
   "source": [
    "### Compare all models (messy plots)"
   ]
  },
  {
   "cell_type": "markdown",
   "metadata": {},
   "source": [
    "#### Check the predictions of the model at the training points"
   ]
  },
  {
   "cell_type": "code",
   "execution_count": null,
   "metadata": {},
   "outputs": [],
   "source": [
    "plot_model_performance(all_models, x_train, y_train, R32.liq_density_bounds)"
   ]
  },
  {
   "cell_type": "markdown",
   "metadata": {},
   "source": [
    "#### Check the predictions of the model at the test points"
   ]
  },
  {
   "cell_type": "code",
   "execution_count": null,
   "metadata": {
    "scrolled": true
   },
   "outputs": [],
   "source": [
    "plot_model_performance(all_models, x_test, y_test, R32.liq_density_bounds)"
   ]
  },
  {
   "cell_type": "markdown",
   "metadata": {},
   "source": [
    "### Compare selected models"
   ]
  },
  {
   "cell_type": "code",
   "execution_count": null,
   "metadata": {},
   "outputs": [],
   "source": [
    "models_to_compare = [\"RBF\", \"RBF multiple\"]\n",
    "filtered_models = { model : all_models[model] for model in models_to_compare}"
   ]
  },
  {
   "cell_type": "markdown",
   "metadata": {},
   "source": [
    "#### Check the predictions of the model at the training points"
   ]
  },
  {
   "cell_type": "code",
   "execution_count": null,
   "metadata": {},
   "outputs": [],
   "source": [
    "plot_model_performance(filtered_models, x_train, y_train, R32.liq_density_bounds)"
   ]
  },
  {
   "cell_type": "markdown",
   "metadata": {},
   "source": [
    "#### Check the predictions of the model at the test points"
   ]
  },
  {
   "cell_type": "code",
   "execution_count": null,
   "metadata": {},
   "outputs": [],
   "source": [
    "plot_model_performance(filtered_models, x_test, y_test, R32.liq_density_bounds)"
   ]
  },
  {
   "cell_type": "markdown",
   "metadata": {},
   "source": [
    "### Continue forward with only RBF, Matern12, Matern52"
   ]
  },
  {
   "cell_type": "code",
   "execution_count": null,
   "metadata": {
    "scrolled": true
   },
   "outputs": [],
   "source": [
    "models_to_compare = [\"RBF multiple\", \"Matern12 multiple\", \"Matern52 multiple\"]\n",
    "models = { model : all_models[model] for model in models_to_compare}"
   ]
  },
  {
   "cell_type": "markdown",
   "metadata": {},
   "source": [
    "# IV. Model visualization"
   ]
  },
  {
   "cell_type": "markdown",
   "metadata": {},
   "source": [
    "## Vary temperature\n",
    "\n",
    "* The linear mean function helps capture the density vs. temperature relationship\n",
    "* The RBF and Matern52 models are similar while the Matern12 model deviates somewhat\n",
    "* Model predictions deviate most at $\\rho < 600$ kg$/$m$^3$ and when the parameters are at the upper end of their range"
   ]
  },
  {
   "cell_type": "code",
   "execution_count": null,
   "metadata": {
    "scrolled": true
   },
   "outputs": [],
   "source": [
    "plot_slices_temperature(\n",
    "    models,\n",
    "    R32.n_params,\n",
    "    R32.temperature_bounds,\n",
    "    R32.liq_density_bounds,\n",
    "    property_name=\"Density, kg/m^3\"\n",
    ")"
   ]
  },
  {
   "cell_type": "markdown",
   "metadata": {},
   "source": [
    "## Vary $\\sigma$ and $\\epsilon$ at a constant temperature\n",
    "\n",
    "First we need to define a mapping between the parameter name and the column index.\n",
    "\n",
    "We also need to select a temperature."
   ]
  },
  {
   "cell_type": "code",
   "execution_count": null,
   "metadata": {
    "scrolled": true
   },
   "outputs": [],
   "source": [
    "temperature = 280 # K\n",
    "\n",
    "for parameter in R32.param_names:\n",
    "    plot_slices_params(\n",
    "        models,\n",
    "        parameter,\n",
    "        R32.param_names,\n",
    "        temperature,\n",
    "        R32.temperature_bounds,\n",
    "        R32.liq_density_bounds,\n",
    "        property_name=\"Density, kg/m^3\"\n",
    "    )"
   ]
  },
  {
   "cell_type": "markdown",
   "metadata": {},
   "source": [
    "# V. Plot $\\rho$ vs. T slices for parameters where at least 1 point was in the training set and 1 point in the test set\n",
    "\n",
    "This will help us visualize the model variance near and far from the training points. It will also show if the model variance is accurate; i.e., does the MD variance fall within the model mean + variance."
   ]
  },
  {
   "cell_type": "markdown",
   "metadata": {},
   "source": [
    "### Plot the model predictions vs. test and training points"
   ]
  },
  {
   "cell_type": "code",
   "execution_count": null,
   "metadata": {
    "scrolled": true
   },
   "outputs": [],
   "source": [
    "# Loop over test params\n",
    "for test_params in x_test[:,:R32.n_params]:\n",
    "    train_points = []\n",
    "    test_points = []\n",
    "    # Locate rows where parameter set == test parameter set\n",
    "    matches = np.unique(np.where((df_liquid.values[:,:R32.n_params] == test_params).all(axis=1))[0])\n",
    "    # Loop over all matches -- these will be different temperatures\n",
    "    for match in matches:\n",
    "        # If the match (including T) is in the test set, then append to test points\n",
    "        if np.where((df_liquid.values[match,:R32.n_params+1] == x_test[:,:R32.n_params+1]).all(axis=1))[0].shape[0] == 1:\n",
    "            test_points.append([df_liquid.values[match,R32.n_params],df_liquid.values[match,-3]])\n",
    "        # Else append to train points\n",
    "        else:\n",
    "            train_points.append([df_liquid.values[match,R32.n_params],df_liquid.values[match,-3]])\n",
    "            \n",
    "    plot_model_vs_test(\n",
    "        models,\n",
    "        test_params,\n",
    "        np.asarray(train_points),\n",
    "        np.asarray(test_points),\n",
    "        R32.temperature_bounds,\n",
    "        R32.liq_density_bounds,\n",
    "        property_name=\"Density, kg/m^3\"\n",
    "    )"
   ]
  },
  {
   "cell_type": "markdown",
   "metadata": {},
   "source": [
    "## VIII. Can we train a classifier to predict liquid vs. vapor points?\n",
    "Let's train an SVM."
   ]
  },
  {
   "cell_type": "code",
   "execution_count": null,
   "metadata": {},
   "outputs": [],
   "source": [
    "param_names = list(R32.param_names) + [\"temperature\"]\n",
    "property_name = \"is_liquid\"\n",
    "x_train, y_train, x_test, y_test = shuffle_and_split(\n",
    " df_all, param_names, property_name, shuffle_seed=cl_shuffle_seed\n",
    ")\n",
    "classifier = svm.SVC(kernel=\"rbf\")\n",
    "classifier.fit(x_train, y_train)\n",
    "test_score = classifier.score(x_test, y_test)\n",
    "print(f\"Classifer is {test_score*100.0}% accurate on the test set.\")"
   ]
  },
  {
   "cell_type": "markdown",
   "metadata": {},
   "source": [
    "### What if we only train the SVM on the original data?"
   ]
  },
  {
   "cell_type": "code",
   "execution_count": null,
   "metadata": {},
   "outputs": [],
   "source": [
    "df_iter1, df_iter1_liquid, df_iter1_vapor = prepare_df_density(\n",
    "    df_csvs[0], R32, liquid_density_threshold\n",
    ")\n",
    "\n",
    "param_names = list(R32.param_names) + [\"temperature\"]\n",
    "property_name = \"is_liquid\"\n",
    "x_train_iter1, y_train_iter1, x_test_iter1, y_test_iter1 = shuffle_and_split(\n",
    "    df_iter1, param_names, property_name, shuffle_seed=cl_shuffle_seed\n",
    ")\n",
    "classifier = svm.SVC(kernel=\"rbf\")\n",
    "classifier.fit(x_train_iter1, y_train_iter1)\n",
    "test_score = classifier.score(x_test, y_test)\n",
    "print(f\"Classifer is {test_score*100.0}% accurate on the test set.\")"
   ]
  },
  {
   "cell_type": "markdown",
   "metadata": {},
   "source": [
    "### Or only the new data"
   ]
  },
  {
   "cell_type": "code",
   "execution_count": null,
   "metadata": {},
   "outputs": [],
   "source": [
    "df_iter2, df_iter2_liquid, df_iter2_vapor = prepare_df_density(\n",
    "    df_csvs[1], R32, liquid_density_threshold\n",
    ")\n",
    "\n",
    "param_names = list(R32.param_names) + [\"temperature\"]\n",
    "property_name = \"is_liquid\"\n",
    "x_train_iter2, y_train_iter2, x_test_iter2, y_test_iter2 = shuffle_and_split(\n",
    "    df_iter2, param_names, property_name, shuffle_seed=cl_shuffle_seed\n",
    ")\n",
    "classifier = svm.SVC(kernel=\"rbf\")\n",
    "classifier.fit(x_train_iter2, y_train_iter2)\n",
    "test_score = classifier.score(x_test, y_test)\n",
    "print(f\"Classifer is {test_score*100.0}% accurate on the test set.\")"
   ]
  }
 ],
 "metadata": {
  "kernelspec": {
   "display_name": "Python 3",
   "language": "python",
   "name": "python3"
  },
  "language_info": {
   "codemirror_mode": {
    "name": "ipython",
    "version": 3
   },
   "file_extension": ".py",
   "mimetype": "text/x-python",
   "name": "python",
   "nbconvert_exporter": "python",
   "pygments_lexer": "ipython3",
   "version": "3.6.7"
  }
 },
 "nbformat": 4,
 "nbformat_minor": 4
}
