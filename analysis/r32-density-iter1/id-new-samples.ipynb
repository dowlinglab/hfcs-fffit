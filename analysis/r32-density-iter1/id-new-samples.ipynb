{
 "cells": [
  {
   "cell_type": "markdown",
   "metadata": {},
   "source": [
    "# Generating force field parameters to predict liquid densities for R-32 by fitting a GP model \n",
    "\n",
    "In this notebook we fit a Gaussian process model to predict the liquid density resulting from a set of {$\\sigma$, $\\epsilon$} parameters for R-32. Then we generate a new parameter set to use in liquid density MD. "
   ]
  },
  {
   "cell_type": "markdown",
   "metadata": {},
   "source": [
    "## Step 0: Load Libraries"
   ]
  },
  {
   "cell_type": "code",
   "execution_count": null,
   "metadata": {},
   "outputs": [],
   "source": [
    "import gpflow\n",
    "import tensorflow as tf\n",
    "import matplotlib.pyplot as plt\n",
    "import unyt as u\n",
    "import numpy as np\n",
    "import pandas as pd\n",
    "import seaborn\n",
    "\n",
    "from sklearn.preprocessing import StandardScaler\n",
    "from sklearn.cluster import KMeans\n",
    "from sklearn.cluster import DBSCAN\n",
    "\n",
    "from sklearn import svm\n",
    "\n",
    "from sklearn import metrics\n",
    "from sklearn.metrics import confusion_matrix\n",
    "from sklearn.metrics import plot_confusion_matrix\n",
    "from sklearn.metrics import silhouette_score\n",
    "\n",
    "\n",
    "from fffit.utils import (\n",
    "    shuffle_and_split,\n",
    "    values_real_to_scaled,\n",
    "    values_scaled_to_real,\n",
    "    variances_scaled_to_real,\n",
    ")\n",
    "\n",
    "from fffit.plot import(\n",
    "    plot_model_performance,\n",
    "    plot_slices_temperature,\n",
    "    plot_slices_params,\n",
    "    plot_model_vs_test\n",
    ")\n",
    "\n",
    "from fffit.gpflow import run_gpflow_scipy\n",
    "\n",
    "import sys\n",
    "sys.path.append('../')\n",
    "\n",
    "from utils.r32 import R32\n",
    "R32 = R32()\n",
    "\n",
    "n_params = len(R32.param_names)\n",
    "liquid_density_threshold = 600 # kg/m^3\n",
    "\n",
    "csv_name = 'r32-density-iter1-results.csv'\n",
    "csv_path = '/scratch365/rdefever/hfcs-fffit/analysis/csv/' + csv_name"
   ]
  },
  {
   "cell_type": "markdown",
   "metadata": {},
   "source": [
    "## Step 1: Extract density"
   ]
  },
  {
   "cell_type": "code",
   "execution_count": null,
   "metadata": {},
   "outputs": [],
   "source": [
    "df = pd.read_csv(csv_path, index_col=0)\n",
    "\n",
    "param_values = df[list(R32.param_names)].values\n",
    "temperature_values = df[\"temperature\"].values\n",
    "md_density_values = df[\"density\"].values\n",
    "\n",
    "md_is_liquid = [density > liquid_density_threshold for density in md_density_values]\n",
    "expt_density_values = [R32.expt_liq_density[round(temp)] for temp in temperature_values]\n",
    "\n",
    "scaled_param_values = values_real_to_scaled(param_values, R32.param_bounds)\n",
    "scaled_temperature_values = values_real_to_scaled(temperature_values, R32.temperature_bounds)\n",
    "scaled_md_density_values = values_real_to_scaled(md_density_values, R32.liq_density_bounds)\n",
    "scaled_expt_density_values = values_real_to_scaled(expt_density_values, R32.liq_density_bounds)\n",
    "\n",
    "scaled_data = np.hstack((scaled_param_values,\n",
    "                         scaled_temperature_values.reshape(-1,1),\n",
    "                         scaled_md_density_values.reshape(-1,1),\n",
    "                         scaled_expt_density_values.reshape(-1,1),\n",
    "                         np.array(md_is_liquid).reshape(-1,1)\n",
    "                        ))\n",
    "\n",
    "column_names = list(R32.param_names) + [\"temperature\",\n",
    "                                      \"md_density\",\n",
    "                                      \"exptl_density\",\n",
    "                                      \"is_liquid\"]\n",
    "\n",
    "df_all = pd.DataFrame(scaled_data, columns=column_names)\n",
    "df_liquid = df_all[df_all[\"is_liquid\"]==True]\n",
    "df_vapor = df_all[df_all[\"is_liquid\"]==False]"
   ]
  },
  {
   "cell_type": "markdown",
   "metadata": {},
   "source": [
    "### Display parameter sets"
   ]
  },
  {
   "cell_type": "code",
   "execution_count": null,
   "metadata": {},
   "outputs": [],
   "source": [
    "#Display entire dataframe\n",
    "pd.options.display.max_rows=1000\n",
    "df_all"
   ]
  },
  {
   "cell_type": "markdown",
   "metadata": {},
   "source": [
    "## Step 2: Fit classifier and GP models"
   ]
  },
  {
   "cell_type": "markdown",
   "metadata": {},
   "source": [
    "### Classifier\n",
    "SVM classifier with RBF kernel and trained with density data from all temperature points to predict parameter sets which return liquid densities."
   ]
  },
  {
   "cell_type": "code",
   "execution_count": null,
   "metadata": {},
   "outputs": [],
   "source": [
    "# Create training dataset\n",
    "param_names = list(R32.param_names) + [\"temperature\"]\n",
    "property_name = \"is_liquid\"\n",
    "x_train, y_train, x_test, y_test = shuffle_and_split(df_all, param_names, property_name, shuffle_seed=295734)\n",
    "\n",
    "# Create classifier\n",
    "classifier = svm.SVC(kernel='rbf')\n",
    "\n",
    "# Fit classifier\n",
    "classifier.fit(x_train, y_train)\n",
    "\n",
    "# Check classifier accuracy\n",
    "test_score = classifier.score(x_test, y_test)\n",
    "print(f\"Classifer is {test_score*100.0}% accurate on the test set.\")"
   ]
  },
  {
   "cell_type": "markdown",
   "metadata": {},
   "source": [
    "### GP Model\n",
    "\n",
    "RBF kernel with linear mean and ARD (multipled length scales). Trained on parameter sets which produced densities greater than 600 kg/m3 (liquid densities only)."
   ]
  },
  {
   "cell_type": "code",
   "execution_count": null,
   "metadata": {},
   "outputs": [],
   "source": [
    "# Create training set\n",
    "param_names = list(R32.param_names) + [\"temperature\"]\n",
    "property_name = \"md_density\"\n",
    "x_train, y_train, x_test, y_test = shuffle_and_split(df_liquid, param_names, property_name, shuffle_seed=957473)\n",
    "\n",
    "# Fit model\n",
    "model = run_gpflow_scipy(x_train, y_train, gpflow.kernels.RBF(lengthscales=np.ones(n_params+1)))"
   ]
  },
  {
   "cell_type": "markdown",
   "metadata": {},
   "source": [
    "## Step 3: Find new parameters for MD simulations"
   ]
  },
  {
   "cell_type": "markdown",
   "metadata": {},
   "source": [
    "### Load in Latin hypercube"
   ]
  },
  {
   "cell_type": "code",
   "execution_count": null,
   "metadata": {},
   "outputs": [],
   "source": [
    "latin_hypercube = np.loadtxt(\"LHS_1e6x6.csv\",delimiter=\",\")\n",
    "\n",
    "print(\"Shape of Latin hypercube sample:\", latin_hypercube.shape)"
   ]
  },
  {
   "cell_type": "markdown",
   "metadata": {},
   "source": [
    "### Use a classifier to predict which LH parameter sets give liquid and vapor\n",
    "\n",
    "Classification done using only the highest temperature."
   ]
  },
  {
   "cell_type": "code",
   "execution_count": null,
   "metadata": {},
   "outputs": [],
   "source": [
    "# Append highest temperature parameter to LH parameters\n",
    "samples = np.hstack((latin_hypercube,np.tile(1.0,(latin_hypercube.shape[0],1))))\n",
    "\n",
    "# Apply clasifier\n",
    "pred = classifier.predict(samples)\n",
    "\n",
    "# Separate LH samples into predicted liquid and predicted vapor sets\n",
    "liquid_samples = latin_hypercube[np.where(pred == 1)]\n",
    "print(\"Shape of the predicted liquid samples:\", liquid_samples.shape)\n",
    "\n",
    "vapor_samples = latin_hypercube[np.where(pred == 0)]\n",
    "print(\"Shape of the predicted vapor samples:\", vapor_samples.shape)"
   ]
  },
  {
   "cell_type": "markdown",
   "metadata": {},
   "source": [
    "### Apply model and calculate mean squared errors (MSE) for all parameter sets"
   ]
  },
  {
   "cell_type": "code",
   "execution_count": null,
   "metadata": {},
   "outputs": [],
   "source": [
    "all_errs = np.empty(shape=(liquid_samples.shape[0],len(R32.expt_liq_density.keys())))\n",
    "col_idx = 0\n",
    "for (temp, density) in R32.expt_liq_density.items():\n",
    "    scaled_temp = values_real_to_scaled(temp, R32.temperature_bounds)\n",
    "    xx = np.hstack((liquid_samples, np.tile(scaled_temp,(liquid_samples.shape[0],1))))\n",
    "    means_scaled, vars_scaled = model.predict_f(xx)\n",
    "    means = values_scaled_to_real(means_scaled, R32.liq_density_bounds)\n",
    "    err = means - density\n",
    "    all_errs[:, col_idx] = err[:,0]\n",
    "    col_idx += 1\n",
    "\n",
    "# Liquid MSE\n",
    "liquid_mean_sq_errs = np.mean(all_errs**2, axis=1)\n",
    "\n",
    "all_errs = np.empty(shape=(vapor_samples.shape[0],len(R32.expt_liq_density.keys())))\n",
    "col_idx = 0\n",
    "for (temp, density) in R32.expt_liq_density.items():\n",
    "    scaled_temp = values_real_to_scaled(temp, R32.temperature_bounds)\n",
    "    xx = np.hstack((vapor_samples, np.tile(scaled_temp,(vapor_samples.shape[0],1))))\n",
    "    means_scaled, vars_scaled = model.predict_f(xx)\n",
    "    means = values_scaled_to_real(means_scaled, R32.liq_density_bounds)\n",
    "    err = means - density\n",
    "    all_errs[:, col_idx] = err[:,0]\n",
    "    col_idx += 1\n",
    "\n",
    "# Vapor MSE\n",
    "vapor_mean_sq_errs = np.mean(all_errs**2, axis=1)"
   ]
  },
  {
   "cell_type": "markdown",
   "metadata": {},
   "source": [
    "#### Create parameter sets for predicted liquid and predicted vapor\n",
    "Sort parameters from lowest to highest MSE."
   ]
  },
  {
   "cell_type": "code",
   "execution_count": null,
   "metadata": {},
   "outputs": [],
   "source": [
    "# Make liquid and vapor pandas dataframes\n",
    "liquid_samples_mse = np.hstack((liquid_samples,liquid_mean_sq_errs.reshape(-1,1)))\n",
    "liquid_samples_mse = pd.DataFrame(\n",
    "    liquid_samples_mse,\n",
    "    columns = list(R32.param_names) + [\"mse\"]\n",
    ")\n",
    "vapor_samples_mse = np.hstack((vapor_samples,vapor_mean_sq_errs.reshape(-1,1)))\n",
    "vapor_samples_mse = pd.DataFrame(\n",
    "    vapor_samples_mse,\n",
    "    columns = list(R32.param_names) + [\"mse\"]\n",
    ")\n",
    "# Rank by MSE\n",
    "liquid_samples_mse_ranked = liquid_samples_mse.sort_values(\"mse\")\n",
    "vapor_samples_mse_ranked = vapor_samples_mse.sort_values(\"mse\")"
   ]
  },
  {
   "cell_type": "markdown",
   "metadata": {},
   "source": [
    "### Visualization: Low MSE parameter sets\n",
    "\n",
    "Parameter sets which give densities within 25 kg/m$^2$ of experimental values"
   ]
  },
  {
   "cell_type": "code",
   "execution_count": null,
   "metadata": {},
   "outputs": [],
   "source": [
    "# Make a set of the lowest MSE parameter sets\n",
    "top_liquid_samples = liquid_samples_mse[liquid_samples_mse[\"mse\"] < 625.0]\n",
    "top_vapor_samples = vapor_samples_mse[vapor_samples_mse[\"mse\"] < 625.0]\n",
    "print(\"There are:\", top_liquid_samples.shape[0],\"liquid parameter sets which produce densities within 25 kg/m$^2$ of experimental densities\")\n",
    "print(\"There are:\", top_vapor_samples.shape[0],\" vapor parameter sets which produce densities within 25 kg/m$^2$ of experimental densities\")"
   ]
  },
  {
   "cell_type": "code",
   "execution_count": null,
   "metadata": {},
   "outputs": [],
   "source": [
    "# Create a pairplot of the top parameter values\n",
    "column_names = list(R32.param_names)\n",
    "g = seaborn.pairplot(top_liquid_samples.drop(columns=[\"mse\"]))\n",
    "g.set(xlim=(-0.1,1.1),ylim=(-0.1,1.1))\n",
    "pass"
   ]
  },
  {
   "cell_type": "code",
   "execution_count": null,
   "metadata": {},
   "outputs": [],
   "source": [
    "# Create a pairplot of the top parameter values\n",
    "column_names = list(R32.param_names)\n",
    "g = seaborn.pairplot(top_vapor_samples.drop(columns=[\"mse\"]))\n",
    "g.set(xlim=(-0.1,1.1),ylim=(-0.1,1.1))\n",
    "pass"
   ]
  },
  {
   "cell_type": "markdown",
   "metadata": {},
   "source": [
    "### Combine top 100 lowest MSE for parameter sets predicted as liquid and vapor"
   ]
  },
  {
   "cell_type": "code",
   "execution_count": null,
   "metadata": {},
   "outputs": [],
   "source": [
    "new_params = [\n",
    "    liquid_samples_mse_ranked.drop(columns=[\"mse\"])[:100],\n",
    "    vapor_samples_mse_ranked.drop(columns=[\"mse\"])[:100],\n",
    "]\n",
    "\n",
    "# Concatenate\n",
    "new_params = pd.concat(new_params)\n",
    "\n",
    "# Display\n",
    "pd.options.display.max_rows=200\n",
    "new_params"
   ]
  },
  {
   "cell_type": "code",
   "execution_count": null,
   "metadata": {},
   "outputs": [],
   "source": [
    "# Save to csv\n",
    "new_params.to_csv(csv_path + 'r32-density-iter2-params.csv')"
   ]
  }
 ],
 "metadata": {
  "kernelspec": {
   "display_name": "Python 3",
   "language": "python",
   "name": "python3"
  },
  "language_info": {
   "codemirror_mode": {
    "name": "ipython",
    "version": 3
   },
   "file_extension": ".py",
   "mimetype": "text/x-python",
   "name": "python",
   "nbconvert_exporter": "python",
   "pygments_lexer": "ipython3",
   "version": "3.6.7"
  }
 },
 "nbformat": 4,
 "nbformat_minor": 4
}
